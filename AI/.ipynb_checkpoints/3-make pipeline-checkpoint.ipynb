{
 "cells": [
  {
   "cell_type": "code",
   "execution_count": 1,
   "metadata": {},
   "outputs": [],
   "source": [
    "import numpy as np\n",
    "import pandas as pd\n",
    "import scipy\n",
    "import sklearn\n",
    "from sklearn.pipeline import make_pipeline\n",
    "import os\n",
    "\n",
    "# skimage\n",
    "import skimage\n",
    "import skimage.color\n",
    "import skimage.transform\n",
    "import skimage.feature\n",
    "import skimage.io"
   ]
  },
  {
   "cell_type": "code",
   "execution_count": 2,
   "metadata": {},
   "outputs": [],
   "source": [
    "from sklearn.base import BaseEstimator, TransformerMixin\n",
    "\n",
    "class rgb2gray_transform(BaseEstimator,TransformerMixin):\n",
    "    import skimage.color\n",
    "    def __init__(self):\n",
    "        pass\n",
    "    \n",
    "    def fit(self,X,y=None):\n",
    "        return self\n",
    "    \n",
    "    def transform(self,X,y=None):\n",
    "        return np.array([skimage.color.rgb2gray(x) for x in X])\n",
    "    \n",
    "    \n",
    "class hogtransformer(BaseEstimator,TransformerMixin):\n",
    "    import skimage.feature\n",
    "    def __init__(self,orientations=9,pixels_per_cell=(8, 8),cells_per_block=(3, 3),):\n",
    "        self.orientations = orientations\n",
    "        self.pixels_per_cell = pixels_per_cell\n",
    "        self.cells_per_block = cells_per_block\n",
    "        \n",
    "        \n",
    "    def fit(self,X,y=None):\n",
    "        return self\n",
    "    \n",
    "    def transform(self,X,y=None):\n",
    "        def local_hog(img):\n",
    "            hog_features= skimage.feature.hog(img,orientations=self.orientations,\n",
    "                                pixels_per_cell=self.pixels_per_cell,\n",
    "                                cells_per_block=self.cells_per_block)\n",
    "            \n",
    "            return hog_features\n",
    "        \n",
    "        hfeatures = np.array([local_hog(x) for x in X])\n",
    "        return hfeatures"
   ]
  },
  {
   "cell_type": "code",
   "execution_count": 3,
   "metadata": {},
   "outputs": [],
   "source": [
    "import matplotlib.pyplot as plt\n",
    "%matplotlib inline"
   ]
  },
  {
   "cell_type": "code",
   "execution_count": 31,
   "metadata": {},
   "outputs": [],
   "source": [
    "# pipeline model\n",
    "image = skimage.io.imread('panda.jpg')\n",
    "# transform image into 80 x 80\n",
    "image_resize = skimage.transform.resize(image,(80,80))\n",
    "image_scale = 255*image_resize\n",
    "image_transform = image_scale.astype(np.uint8)\n",
    "# rgb to gray\n",
    "gray = skimage.color.rgb2gray(image_transform)\n",
    "# hog feature\n",
    "feature_vector = skimage.feature.hog(gray,\n",
    "                              orientations=10,\n",
    "                              pixels_per_cell=(8,8),cells_per_block=(2,2))"
   ]
  },
  {
   "cell_type": "code",
   "execution_count": 32,
   "metadata": {},
   "outputs": [
    {
     "data": {
      "text/plain": [
       "array([0.22091807, 0.22091807, 0.18171209, ..., 0.068121  , 0.01169019,\n",
       "       0.03097178])"
      ]
     },
     "execution_count": 32,
     "metadata": {},
     "output_type": "execute_result"
    }
   ],
   "source": [
    "feature_vector"
   ]
  },
  {
   "cell_type": "code",
   "execution_count": 33,
   "metadata": {},
   "outputs": [],
   "source": [
    "import pickle\n",
    "# load the model\n",
    "model = pickle.load(open('dsa_image_classification_sgd.pickle','rb'))\n",
    "scaler = pickle.load(open('dsa_scaler.pickle','rb'))"
   ]
  },
  {
   "cell_type": "code",
   "execution_count": 34,
   "metadata": {},
   "outputs": [
    {
     "data": {
      "text/plain": [
       "(3240,)"
      ]
     },
     "execution_count": 34,
     "metadata": {},
     "output_type": "execute_result"
    }
   ],
   "source": [
    "feature_vector.shape"
   ]
  },
  {
   "cell_type": "code",
   "execution_count": 35,
   "metadata": {},
   "outputs": [],
   "source": [
    "scalex = scaler.transform(feature_vector.reshape(1,-1))\n",
    "result = model.predict(scalex)"
   ]
  },
  {
   "cell_type": "code",
   "execution_count": 36,
   "metadata": {},
   "outputs": [
    {
     "data": {
      "text/plain": [
       "array(['panda'], dtype='<U8')"
      ]
     },
     "execution_count": 36,
     "metadata": {},
     "output_type": "execute_result"
    }
   ],
   "source": [
    "result"
   ]
  },
  {
   "cell_type": "code",
   "execution_count": 37,
   "metadata": {},
   "outputs": [],
   "source": [
    "# cal the probabilty \n",
    "decision_value = model.decision_function(scalex)"
   ]
  },
  {
   "cell_type": "code",
   "execution_count": 38,
   "metadata": {},
   "outputs": [
    {
     "data": {
      "text/plain": [
       "array([[ -83.63282376, -177.99307307, -136.62873748, -200.11010524,\n",
       "        -197.36617654,  -70.6758892 , -157.67720808, -145.88970842,\n",
       "        -166.22186952, -157.67475804, -140.05191361, -197.14324779,\n",
       "        -189.89726252, -194.55327646,    2.04230725, -200.62403988,\n",
       "         -90.71778822, -237.57970355, -113.86725188, -160.47208345]])"
      ]
     },
     "execution_count": 38,
     "metadata": {},
     "output_type": "execute_result"
    }
   ],
   "source": [
    "decision_value"
   ]
  },
  {
   "cell_type": "code",
   "execution_count": 39,
   "metadata": {},
   "outputs": [
    {
     "data": {
      "text/plain": [
       "array(['bear', 'cat', 'chicken', 'cow', 'deer', 'dog', 'duck', 'eagle',\n",
       "       'elephant', 'human', 'lion', 'monkey', 'mouse', 'natural', 'panda',\n",
       "       'pigeon', 'rabbit', 'sheep', 'tiger', 'wolf'], dtype='<U8')"
      ]
     },
     "execution_count": 39,
     "metadata": {},
     "output_type": "execute_result"
    }
   ],
   "source": [
    "model.classes_"
   ]
  },
  {
   "cell_type": "code",
   "execution_count": 40,
   "metadata": {},
   "outputs": [],
   "source": [
    "labels = model.classes_"
   ]
  },
  {
   "cell_type": "code",
   "execution_count": 41,
   "metadata": {},
   "outputs": [],
   "source": [
    "decision_value = decision_value.flatten()"
   ]
  },
  {
   "cell_type": "code",
   "execution_count": 42,
   "metadata": {},
   "outputs": [
    {
     "data": {
      "image/png": "[encoded data removed]",
      "text/plain": [
       "<Figure size 432x288 with 1 Axes>"
      ]
     },
     "metadata": {
      "needs_background": "light"
     },
     "output_type": "display_data"
    }
   ],
   "source": [
    "plt.barh(labels,decision_value)\n",
    "plt.grid()"
   ]
  },
  {
   "cell_type": "code",
   "execution_count": 43,
   "metadata": {},
   "outputs": [
    {
     "data": {
      "text/plain": [
       "array([0.08677582, 0.01571145, 0.03323257, 0.01052584, 0.01106213,\n",
       "       0.10972621, 0.02269911, 0.02810105, 0.01944472, 0.02270012,\n",
       "       0.03123483, 0.01110688, 0.01266441, 0.01164028, 0.40951439,\n",
       "       0.01042832, 0.076326  , 0.00534002, 0.05018713, 0.02157874])"
      ]
     },
     "execution_count": 43,
     "metadata": {},
     "output_type": "execute_result"
    }
   ],
   "source": [
    "# cal. z score\n",
    "z = scipy.stats.zscore(decision_value)\n",
    "prob_value = scipy.special.softmax(z)\n",
    "prob_value"
   ]
  },
  {
   "cell_type": "code",
   "execution_count": 44,
   "metadata": {},
   "outputs": [
    {
     "data": {
      "image/png": "[encoded data removed]",
      "text/plain": [
       "<Figure size 432x288 with 1 Axes>"
      ]
     },
     "metadata": {
      "needs_background": "light"
     },
     "output_type": "display_data"
    }
   ],
   "source": [
    "plt.barh(labels,prob_value)\n",
    "plt.grid()"
   ]
  },
  {
   "cell_type": "code",
   "execution_count": 45,
   "metadata": {},
   "outputs": [],
   "source": [
    "# top five probabilty values\n",
    "top_5_prob_ind = prob_value.argsort()[::-1][:5]"
   ]
  },
  {
   "cell_type": "code",
   "execution_count": 46,
   "metadata": {},
   "outputs": [
    {
     "data": {
      "text/plain": [
       "array([14,  5,  0, 16, 18], dtype=int64)"
      ]
     },
     "execution_count": 46,
     "metadata": {},
     "output_type": "execute_result"
    }
   ],
   "source": [
    "top_5_prob_ind"
   ]
  },
  {
   "cell_type": "code",
   "execution_count": 47,
   "metadata": {},
   "outputs": [],
   "source": [
    "top_labels = labels[top_5_prob_ind]\n",
    "top_prob = prob_value[top_5_prob_ind]"
   ]
  },
  {
   "cell_type": "code",
   "execution_count": 48,
   "metadata": {},
   "outputs": [
    {
     "data": {
      "text/plain": [
       "(array([0.40951439, 0.10972621, 0.08677582, 0.076326  , 0.05018713]),\n",
       " array(['panda', 'dog', 'bear', 'rabbit', 'tiger'], dtype='<U8'))"
      ]
     },
     "execution_count": 48,
     "metadata": {},
     "output_type": "execute_result"
    }
   ],
   "source": [
    "top_prob,top_labels"
   ]
  },
  {
   "cell_type": "code",
   "execution_count": 49,
   "metadata": {},
   "outputs": [],
   "source": [
    "top_dict = dict()\n",
    "for key,val in zip(top_labels,top_prob):\n",
    "    top_dict.update({key:np.round(val,3)})"
   ]
  },
  {
   "cell_type": "code",
   "execution_count": 50,
   "metadata": {},
   "outputs": [
    {
     "data": {
      "text/plain": [
       "{'panda': 0.41, 'dog': 0.11, 'bear': 0.087, 'rabbit': 0.076, 'tiger': 0.05}"
      ]
     },
     "execution_count": 50,
     "metadata": {},
     "output_type": "execute_result"
    }
   ],
   "source": [
    "top_dict"
   ]
  },
  {
   "cell_type": "code",
   "execution_count": 51,
   "metadata": {},
   "outputs": [],
   "source": [
    "def pipeline_model(path,scaler_transform,model_sgd):\n",
    "    # pipeline model\n",
    "    image = skimage.io.imread(path)\n",
    "    # transform image into 80 x 80\n",
    "    image_resize = skimage.transform.resize(image,(80,80))\n",
    "    image_scale = 255*image_resize\n",
    "    image_transform = image_scale.astype(np.uint8)\n",
    "    # rgb to gray\n",
    "    gray = skimage.color.rgb2gray(image_transform)\n",
    "    # hog feature\n",
    "    feature_vector = skimage.feature.hog(gray,\n",
    "                                  orientations=10,\n",
    "                                  pixels_per_cell=(8,8),cells_per_block=(2,2))\n",
    "    # scaling\n",
    "    \n",
    "    scalex = scaler_transform.transform(feature_vector.reshape(1,-1))\n",
    "    result = model_sgd.predict(scalex)\n",
    "    # decision function # confidence\n",
    "    decision_value = model_sgd.decision_function(scalex).flatten()\n",
    "    labels = model_sgd.classes_\n",
    "    # probability\n",
    "    z = scipy.stats.zscore(decision_value)\n",
    "    prob_value = scipy.special.softmax(z)\n",
    "    \n",
    "    # top 5\n",
    "    top_5_prob_ind = prob_value.argsort()[::-1][:5]\n",
    "    top_labels = labels[top_5_prob_ind]\n",
    "    top_prob = prob_value[top_5_prob_ind]\n",
    "    # put in dictornary\n",
    "    top_dict = dict()\n",
    "    for key,val in zip(top_labels,top_prob):\n",
    "        top_dict.update({key:np.round(val,3)})\n",
    "    \n",
    "    return top_dict"
   ]
  },
  {
   "cell_type": "code",
   "execution_count": 52,
   "metadata": {},
   "outputs": [
    {
     "data": {
      "text/plain": [
       "{'panda': 0.41, 'dog': 0.11, 'bear': 0.087, 'rabbit': 0.076, 'tiger': 0.05}"
      ]
     },
     "execution_count": 52,
     "metadata": {},
     "output_type": "execute_result"
    }
   ],
   "source": [
    "res = pipeline_model('panda.jpg',scaler,model)\n",
    "res"
   ]
  },
  {
   "cell_type": "code",
   "execution_count": null,
   "metadata": {},
   "outputs": [],
   "source": []
  },
  {
   "cell_type": "code",
   "execution_count": null,
   "metadata": {},
   "outputs": [],
   "source": []
  },
  {
   "cell_type": "code",
   "execution_count": null,
   "metadata": {},
   "outputs": [],
   "source": []
  },
  {
   "cell_type": "code",
   "execution_count": null,
   "metadata": {},
   "outputs": [],
   "source": []
  },
  {
   "cell_type": "code",
   "execution_count": null,
   "metadata": {},
   "outputs": [],
   "source": []
  },
  {
   "cell_type": "code",
   "execution_count": null,
   "metadata": {},
   "outputs": [],
   "source": []
  },
  {
   "cell_type": "code",
   "execution_count": null,
   "metadata": {},
   "outputs": [],
   "source": []
  },
  {
   "cell_type": "code",
   "execution_count": null,
   "metadata": {},
   "outputs": [],
   "source": []
  },
  {
   "cell_type": "code",
   "execution_count": null,
   "metadata": {},
   "outputs": [],
   "source": []
  }
 ],
 "metadata": {
  "kernelspec": {
   "display_name": "Python 3",
   "language": "python",
   "name": "python3"
  },
  "language_info": {
   "codemirror_mode": {
    "name": "ipython",
    "version": 3
   },
   "file_extension": ".py",
   "mimetype": "text/x-python",
   "name": "python",
   "nbconvert_exporter": "python",
   "pygments_lexer": "ipython3",
   "version": "3.8.5"
  }
 },
 "nbformat": 4,
 "nbformat_minor": 4
}
